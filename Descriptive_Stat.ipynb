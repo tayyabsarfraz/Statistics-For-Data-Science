{
 "cells": [
  {
   "cell_type": "markdown",
   "id": "cfdccdca-e042-4c7f-bf24-2bfa339ef0f4",
   "metadata": {},
   "source": [
    "# I want to learn Stat"
   ]
  },
  {
   "cell_type": "code",
   "execution_count": null,
   "id": "0305ba9e-283b-4dbf-ac59-15355500da9b",
   "metadata": {},
   "outputs": [],
   "source": []
  }
 ],
 "metadata": {
  "kernelspec": {
   "display_name": "Python 3 (ipykernel)",
   "language": "python",
   "name": "python3"
  },
  "language_info": {
   "codemirror_mode": {
    "name": "ipython",
    "version": 3
   },
   "file_extension": ".py",
   "mimetype": "text/x-python",
   "name": "python",
   "nbconvert_exporter": "python",
   "pygments_lexer": "ipython3",
   "version": "3.12.3"
  }
 },
 "nbformat": 4,
 "nbformat_minor": 5
}
